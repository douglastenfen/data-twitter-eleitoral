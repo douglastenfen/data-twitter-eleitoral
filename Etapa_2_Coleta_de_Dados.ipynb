{
  "nbformat": 4,
  "nbformat_minor": 0,
  "metadata": {
    "colab": {
      "name": "Etapa 2 - Coleta de Dados.ipynb",
      "provenance": [],
      "authorship_tag": "ABX9TyNl5VoWjgoONBQlEwMKbjsO",
      "include_colab_link": true
    },
    "kernelspec": {
      "name": "python3",
      "display_name": "Python 3"
    },
    "language_info": {
      "name": "python"
    }
  },
  "cells": [
    {
      "cell_type": "markdown",
      "metadata": {
        "id": "view-in-github",
        "colab_type": "text"
      },
      "source": [
        "<a href=\"https://colab.research.google.com/github/douglastenfen/data-twitter-eleitoral/blob/main/Etapa_2_Coleta_de_Dados.ipynb\" target=\"_parent\"><img src=\"https://colab.research.google.com/assets/colab-badge.svg\" alt=\"Open In Colab\"/></a>"
      ]
    },
    {
      "cell_type": "markdown",
      "source": [
        "####Apresentação do projeto"
      ],
      "metadata": {
        "id": "HqmVtGwyQHAy"
      }
    },
    {
      "cell_type": "code",
      "execution_count": null,
      "metadata": {
        "id": "97JWfv5YOmkM"
      },
      "outputs": [],
      "source": [
        ""
      ]
    }
  ]
}